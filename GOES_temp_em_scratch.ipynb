{
 "cells": [
  {
   "cell_type": "code",
   "execution_count": 3,
   "metadata": {
    "collapsed": true
   },
   "outputs": [],
   "source": [
    "import sunpy"
   ]
  },
  {
   "cell_type": "code",
   "execution_count": 4,
   "metadata": {
    "collapsed": true
   },
   "outputs": [],
   "source": [
    "import pandas as pd\n",
    "import numpy as np\n",
    "import matplotlib.pyplot as plt\n",
    "\n",
    "#from sunpy.instr.goes import get_goes_event_list\n",
    "#from sunpy.time import parse_time, TimeRange, is_time_in_given_format\n",
    "#from sunpy.instr.goes import flareclass_to_flux\n",
    "#from sunpy.lightcurve import GOESLightCurve\n",
    "\n",
    "import sunpy.lightcurve as lc\n",
    "from sunpy.instr.goes import calculate_temperature_em"
   ]
  },
  {
   "cell_type": "markdown",
   "metadata": {},
   "source": [
    "Read in data from the original balch list and from Doug's students SEP list"
   ]
  },
  {
   "cell_type": "code",
   "execution_count": 5,
   "metadata": {
    "collapsed": true
   },
   "outputs": [],
   "source": [
    "#read in the shuffled dataframe of original sep+ctrl events from 1986 - 2004\n",
    "#orig_data = pd.read_csv(\"AllEvtsShuffled_1986_2004.csv\")\n",
    "\n",
    "#read in the original Balch SEP event list with added CME speed and GOES T and EM\n",
    "orig_data = pd.read_excel(\"ctrlevents.v8p.xls\")\n",
    "\n",
    "#adding y label column indicating positive and negative SEP events - SEP events have Association = ProtonFlare\n",
    "orig_data['sep'] = orig_data.Association.str.contains('^Proton').astype(int)"
   ]
  },
  {
   "cell_type": "code",
   "execution_count": 6,
   "metadata": {
    "collapsed": true
   },
   "outputs": [],
   "source": [
    "#read in corresponding student data\n",
    "stud_data0 = pd.read_excel(\"ControlEvents_student.xls\")\n",
    "stud_data0['sep'] = stud_data0.Association.str.contains('^Proton').astype(int)\n",
    "\n",
    "stud_data0 = stud_data0.drop_duplicates()"
   ]
  },
  {
   "cell_type": "code",
   "execution_count": 75,
   "metadata": {},
   "outputs": [
    {
     "name": "stdout",
     "output_type": "stream",
     "text": [
      "3783\n",
      "4787\n"
     ]
    }
   ],
   "source": [
    "print(len(orig_data))\n",
    "print(len(stud_data0))"
   ]
  },
  {
   "cell_type": "code",
   "execution_count": 7,
   "metadata": {
    "collapsed": true
   },
   "outputs": [],
   "source": [
    "mask = np.asarray(stud_data0.FlrOnset.isin(orig_data.FlrOnset))\n",
    "stud_data = stud_data0.iloc[mask]\n",
    "stud_data.reset_index(inplace=True)"
   ]
  },
  {
   "cell_type": "code",
   "execution_count": 8,
   "metadata": {},
   "outputs": [
    {
     "name": "stdout",
     "output_type": "stream",
     "text": [
      "3783\n",
      "3783\n"
     ]
    }
   ],
   "source": [
    "print(len(orig_data))\n",
    "print(len(stud_data))"
   ]
  },
  {
   "cell_type": "code",
   "execution_count": 9,
   "metadata": {},
   "outputs": [
    {
     "name": "stdout",
     "output_type": "stream",
     "text": [
      "3656\n",
      "127\n"
     ]
    }
   ],
   "source": [
    "print(len(orig_data.query('sep == 0')))\n",
    "print(len(orig_data.query('sep == 1')))"
   ]
  },
  {
   "cell_type": "code",
   "execution_count": 10,
   "metadata": {
    "scrolled": true
   },
   "outputs": [
    {
     "name": "stdout",
     "output_type": "stream",
     "text": [
      "3655\n",
      "128\n"
     ]
    }
   ],
   "source": [
    "print(len(stud_data.query('sep == 0')))\n",
    "print(len(stud_data.query('sep == 1')))"
   ]
  },
  {
   "cell_type": "code",
   "execution_count": 11,
   "metadata": {
    "collapsed": true
   },
   "outputs": [],
   "source": [
    "orig_sep = orig_data.query('sep == 1')\n",
    "orig_ctrl = orig_data.query('sep == 0')\n",
    "\n",
    "stud_sep = stud_data.query('sep == 1')\n",
    "stud_ctrl = stud_data.query('sep == 0')"
   ]
  },
  {
   "cell_type": "markdown",
   "metadata": {},
   "source": [
    "Some events are labeled differently in the balch vs student SEP list - investigate here"
   ]
  },
  {
   "cell_type": "code",
   "execution_count": 12,
   "metadata": {
    "collapsed": true
   },
   "outputs": [],
   "source": [
    "#mask2 = (orig_data[['FlrOnset','sep','TypeII','TypeIV']] != stud_data[['FlrOnset','sep','TypeII','TypeIV']]).any(1)"
   ]
  },
  {
   "cell_type": "code",
   "execution_count": 19,
   "metadata": {
    "collapsed": true
   },
   "outputs": [],
   "source": [
    "mask2 = orig_data.FlrOnset.isin(stud_data.FlrOnset)"
   ]
  },
  {
   "cell_type": "code",
   "execution_count": 21,
   "metadata": {},
   "outputs": [
    {
     "data": {
      "text/plain": [
       "(array([2983]),)"
      ]
     },
     "execution_count": 21,
     "metadata": {},
     "output_type": "execute_result"
    }
   ],
   "source": [
    "np.where(mask2 == False)"
   ]
  },
  {
   "cell_type": "code",
   "execution_count": 24,
   "metadata": {},
   "outputs": [
    {
     "data": {
      "text/plain": [
       "FlrOnset    2001-08-09T10:15:00.000\n",
       "sep                               1\n",
       "TypeII                           No\n",
       "TypeIV                           No\n",
       "Name: 2983, dtype: object"
      ]
     },
     "execution_count": 24,
     "metadata": {},
     "output_type": "execute_result"
    }
   ],
   "source": [
    "orig_data[['FlrOnset','sep','TypeII','TypeIV']].iloc[2983]"
   ]
  },
  {
   "cell_type": "markdown",
   "metadata": {},
   "source": [
    "----------"
   ]
  },
  {
   "cell_type": "markdown",
   "metadata": {},
   "source": [
    "Events that are in orig balch data set but not listed as SEPs in the students list"
   ]
  },
  {
   "cell_type": "code",
   "execution_count": 29,
   "metadata": {
    "collapsed": true
   },
   "outputs": [],
   "source": [
    "mask2 = orig_sep.FlrOnset.isin(stud_sep.FlrOnset)"
   ]
  },
  {
   "cell_type": "code",
   "execution_count": 30,
   "metadata": {},
   "outputs": [
    {
     "data": {
      "text/plain": [
       "(array([ 82,  91, 104, 106]),)"
      ]
     },
     "execution_count": 30,
     "metadata": {},
     "output_type": "execute_result"
    }
   ],
   "source": [
    "np.where(mask2 == False)"
   ]
  },
  {
   "cell_type": "code",
   "execution_count": 35,
   "metadata": {},
   "outputs": [
    {
     "data": {
      "text/html": [
       "<div>\n",
       "<style scoped>\n",
       "    .dataframe tbody tr th:only-of-type {\n",
       "        vertical-align: middle;\n",
       "    }\n",
       "\n",
       "    .dataframe tbody tr th {\n",
       "        vertical-align: top;\n",
       "    }\n",
       "\n",
       "    .dataframe thead th {\n",
       "        text-align: right;\n",
       "    }\n",
       "</style>\n",
       "<table border=\"1\" class=\"dataframe\">\n",
       "  <thead>\n",
       "    <tr style=\"text-align: right;\">\n",
       "      <th></th>\n",
       "      <th>FlrOnset</th>\n",
       "      <th>sep</th>\n",
       "      <th>TypeII</th>\n",
       "      <th>TypeIV</th>\n",
       "    </tr>\n",
       "  </thead>\n",
       "  <tbody>\n",
       "    <tr>\n",
       "      <th>2824</th>\n",
       "      <td>2000-11-25T00:32:00.000</td>\n",
       "      <td>1</td>\n",
       "      <td>Yes</td>\n",
       "      <td>Yes</td>\n",
       "    </tr>\n",
       "    <tr>\n",
       "      <th>2983</th>\n",
       "      <td>2001-08-09T10:15:00.000</td>\n",
       "      <td>1</td>\n",
       "      <td>No</td>\n",
       "      <td>No</td>\n",
       "    </tr>\n",
       "    <tr>\n",
       "      <th>3286</th>\n",
       "      <td>2002-04-17T07:36:00.000</td>\n",
       "      <td>1</td>\n",
       "      <td>Yes</td>\n",
       "      <td>Yes</td>\n",
       "    </tr>\n",
       "    <tr>\n",
       "      <th>3307</th>\n",
       "      <td>2002-05-22T03:17:00.000</td>\n",
       "      <td>1</td>\n",
       "      <td>No</td>\n",
       "      <td>No</td>\n",
       "    </tr>\n",
       "  </tbody>\n",
       "</table>\n",
       "</div>"
      ],
      "text/plain": [
       "                     FlrOnset  sep TypeII TypeIV\n",
       "2824  2000-11-25T00:32:00.000    1    Yes    Yes\n",
       "2983  2001-08-09T10:15:00.000    1     No     No\n",
       "3286  2002-04-17T07:36:00.000    1    Yes    Yes\n",
       "3307  2002-05-22T03:17:00.000    1     No     No"
      ]
     },
     "execution_count": 35,
     "metadata": {},
     "output_type": "execute_result"
    }
   ],
   "source": [
    "orig_sep[['FlrOnset','sep','TypeII','TypeIV']].iloc[np.where(mask2 == False)[0]]"
   ]
  },
  {
   "cell_type": "markdown",
   "metadata": {},
   "source": [
    "-----------"
   ]
  },
  {
   "cell_type": "markdown",
   "metadata": {},
   "source": [
    "Events that are listed SEP in the students data set but not listed as SEPs in the original balch list"
   ]
  },
  {
   "cell_type": "code",
   "execution_count": 36,
   "metadata": {
    "collapsed": true
   },
   "outputs": [],
   "source": [
    "mask2 = stud_sep.FlrOnset.isin(orig_sep.FlrOnset)"
   ]
  },
  {
   "cell_type": "code",
   "execution_count": 37,
   "metadata": {},
   "outputs": [
    {
     "data": {
      "text/plain": [
       "(array([ 74,  83,  92,  96, 107]),)"
      ]
     },
     "execution_count": 37,
     "metadata": {},
     "output_type": "execute_result"
    }
   ],
   "source": [
    "np.where(mask2 == False)"
   ]
  },
  {
   "cell_type": "code",
   "execution_count": 38,
   "metadata": {},
   "outputs": [
    {
     "data": {
      "text/html": [
       "<div>\n",
       "<style scoped>\n",
       "    .dataframe tbody tr th:only-of-type {\n",
       "        vertical-align: middle;\n",
       "    }\n",
       "\n",
       "    .dataframe tbody tr th {\n",
       "        vertical-align: top;\n",
       "    }\n",
       "\n",
       "    .dataframe thead th {\n",
       "        text-align: right;\n",
       "    }\n",
       "</style>\n",
       "<table border=\"1\" class=\"dataframe\">\n",
       "  <thead>\n",
       "    <tr style=\"text-align: right;\">\n",
       "      <th></th>\n",
       "      <th>FlrOnset</th>\n",
       "      <th>sep</th>\n",
       "      <th>TypeII</th>\n",
       "      <th>TypeIV</th>\n",
       "    </tr>\n",
       "  </thead>\n",
       "  <tbody>\n",
       "    <tr>\n",
       "      <th>2591</th>\n",
       "      <td>2000-02-17T20:15:00.000</td>\n",
       "      <td>1</td>\n",
       "      <td>Yes</td>\n",
       "      <td>No</td>\n",
       "    </tr>\n",
       "    <tr>\n",
       "      <th>2827</th>\n",
       "      <td>2000-11-25T18:33:00.000</td>\n",
       "      <td>1</td>\n",
       "      <td>Yes</td>\n",
       "      <td>No</td>\n",
       "    </tr>\n",
       "    <tr>\n",
       "      <th>2970</th>\n",
       "      <td>2001-06-15T10:00:00.000</td>\n",
       "      <td>1</td>\n",
       "      <td>Yes</td>\n",
       "      <td>Yes</td>\n",
       "    </tr>\n",
       "    <tr>\n",
       "      <th>3073</th>\n",
       "      <td>2001-10-19T00:44:00.000</td>\n",
       "      <td>1</td>\n",
       "      <td>Yes</td>\n",
       "      <td>Yes</td>\n",
       "    </tr>\n",
       "    <tr>\n",
       "      <th>3305</th>\n",
       "      <td>2002-05-21T21:11:00.000</td>\n",
       "      <td>1</td>\n",
       "      <td>Yes</td>\n",
       "      <td>No</td>\n",
       "    </tr>\n",
       "  </tbody>\n",
       "</table>\n",
       "</div>"
      ],
      "text/plain": [
       "                     FlrOnset  sep TypeII TypeIV\n",
       "2591  2000-02-17T20:15:00.000    1    Yes     No\n",
       "2827  2000-11-25T18:33:00.000    1    Yes     No\n",
       "2970  2001-06-15T10:00:00.000    1    Yes    Yes\n",
       "3073  2001-10-19T00:44:00.000    1    Yes    Yes\n",
       "3305  2002-05-21T21:11:00.000    1    Yes     No"
      ]
     },
     "execution_count": 38,
     "metadata": {},
     "output_type": "execute_result"
    }
   ],
   "source": [
    "stud_sep[['FlrOnset','sep','TypeII','TypeIV']].iloc[np.where(mask2 == False)[0]]"
   ]
  },
  {
   "cell_type": "code",
   "execution_count": 73,
   "metadata": {},
   "outputs": [
    {
     "data": {
      "text/plain": [
       "FlrOnset        2002-05-21T21:11:00.000\n",
       "Flrmaxtime      2002-05-21T21:39:00.000\n",
       "Flrendtime      2002-05-21T23:13:00.000\n",
       "FlrPeakFlux                     1.5e-05\n",
       "xrscls                             M1.4\n",
       "ocls                                 2F\n",
       "optlocation                      N17E38\n",
       "region                             9960\n",
       "Rpatrol                             Yes\n",
       "TypeII                              Yes\n",
       "TII_duration                         28\n",
       "TypeIV                               No\n",
       "TIV_duration                         -1\n",
       "CME_Patrol                          Yes\n",
       "CME_onset       2002-05-21T21:50:05.000\n",
       "CME_speed                           853\n",
       "Satellite                            G8\n",
       "FlrHpTime       2002-05-21T22:00:00.000\n",
       "FlrIntFlux                       0.0243\n",
       "FlrIntFlux2                      0.0217\n",
       "Association                        None\n",
       "S1onset                             NaN\n",
       "S2onset                             NaN\n",
       "S3onset                             NaN\n",
       "S4onset                             NaN\n",
       "S5onset                             NaN\n",
       "GT100onset                          NaN\n",
       "sep                                   0\n",
       "Name: 3305, dtype: object"
      ]
     },
     "execution_count": 73,
     "metadata": {},
     "output_type": "execute_result"
    }
   ],
   "source": [
    "orig_data.iloc[3305]"
   ]
  },
  {
   "cell_type": "markdown",
   "metadata": {},
   "source": [
    "-------------"
   ]
  },
  {
   "cell_type": "markdown",
   "metadata": {},
   "source": [
    "Pull the Temp and EM values from the students dataset into the original dataset"
   ]
  },
  {
   "cell_type": "code",
   "execution_count": 95,
   "metadata": {},
   "outputs": [],
   "source": [
    " orig_data_new = pd.merge(orig_data, stud_data[['FlrOnset','tchianti','emchianti']], how='left', left_on='FlrOnset', right_on='FlrOnset')"
   ]
  },
  {
   "cell_type": "code",
   "execution_count": 108,
   "metadata": {},
   "outputs": [
    {
     "ename": "NameError",
     "evalue": "name 'shuffle' is not defined",
     "output_type": "error",
     "traceback": [
      "\u001b[0;31m---------------------------------------------------------------------------\u001b[0m",
      "\u001b[0;31mNameError\u001b[0m                                 Traceback (most recent call last)",
      "\u001b[0;32m<ipython-input-108-f5060ad20cdc>\u001b[0m in \u001b[0;36m<module>\u001b[0;34m()\u001b[0m\n\u001b[1;32m      1\u001b[0m \u001b[0;31m#shuffle the events so they are not organized\u001b[0m\u001b[0;34m\u001b[0m\u001b[0;34m\u001b[0m\u001b[0m\n\u001b[0;32m----> 2\u001b[0;31m \u001b[0morig_data_new\u001b[0m \u001b[0;34m=\u001b[0m \u001b[0mshuffle\u001b[0m\u001b[0;34m(\u001b[0m\u001b[0morig_data_new\u001b[0m\u001b[0;34m)\u001b[0m\u001b[0;34m\u001b[0m\u001b[0m\n\u001b[0m\u001b[1;32m      3\u001b[0m \u001b[0;34m\u001b[0m\u001b[0m\n\u001b[1;32m      4\u001b[0m \u001b[0;31m#save the shuffled dataframe -- commented out to prevent resaving\u001b[0m\u001b[0;34m\u001b[0m\u001b[0;34m\u001b[0m\u001b[0m\n\u001b[1;32m      5\u001b[0m \u001b[0morig_data_new\u001b[0m\u001b[0;34m.\u001b[0m\u001b[0mto_csv\u001b[0m\u001b[0;34m(\u001b[0m\u001b[0;34m\"AllEvtsShuffled_1986_2004_t_em.csv\"\u001b[0m\u001b[0;34m)\u001b[0m\u001b[0;34m\u001b[0m\u001b[0m\n",
      "\u001b[0;31mNameError\u001b[0m: name 'shuffle' is not defined"
     ]
    }
   ],
   "source": [
    "#shuffle the events so they are not organized \n",
    "orig_data_new = shuffle(orig_data_new)\n",
    "\n",
    "#save the shuffled dataframe -- commented out to prevent resaving\n",
    "orig_data_new.to_csv(\"AllEvtsShuffled_1986_2004_t_em.csv\")"
   ]
  },
  {
   "cell_type": "code",
   "execution_count": 105,
   "metadata": {},
   "outputs": [],
   "source": [
    "#s1[['FlrOnset','sep','tchianti','emchianti']].iloc[0:10]"
   ]
  },
  {
   "cell_type": "code",
   "execution_count": 107,
   "metadata": {},
   "outputs": [],
   "source": [
    "#stud_data[['FlrOnset','sep','tchianti','emchianti']].iloc[0:20]"
   ]
  },
  {
   "cell_type": "code",
   "execution_count": null,
   "metadata": {
    "collapsed": true
   },
   "outputs": [],
   "source": []
  },
  {
   "cell_type": "code",
   "execution_count": null,
   "metadata": {
    "collapsed": true
   },
   "outputs": [],
   "source": []
  },
  {
   "cell_type": "markdown",
   "metadata": {
    "collapsed": true
   },
   "source": [
    "---------"
   ]
  },
  {
   "cell_type": "markdown",
   "metadata": {
    "collapsed": true
   },
   "source": [
    "Pulling Temp and EM from sunpy GOES module - currently has issues with some bad data points"
   ]
  },
  {
   "cell_type": "code",
   "execution_count": null,
   "metadata": {
    "collapsed": true
   },
   "outputs": [],
   "source": [
    "\n",
    "i = 1\n",
    "t1 = orig_data.FlrOnset.iloc[i]\n",
    "t2 = orig_data.Flrendtime.iloc[i]\n",
    "goeslc = lc.GOESLightCurve.create(t1, t2)  \n",
    "      \n",
    "plt.plot(goeslc.data.xrsa)\n",
    "plt.plot(goeslc.data.xrsb)\n",
    "plt.show()\n",
    "\n",
    "#calculate the temperature and emission measure\n",
    "goeslc_new = calculate_temperature_em(goeslc)  \n",
    "\n",
    "#flare max temp and em\n",
    "temp.append(goeslclc_new.data.temperature.max())\n",
    "em.append(goeslc_new.data.em.max())\n",
    "\n"
   ]
  },
  {
   "cell_type": "code",
   "execution_count": null,
   "metadata": {
    "collapsed": true
   },
   "outputs": [],
   "source": [
    "temp = []\n",
    "em = []\n",
    "for i in range(len(orig_data)):\n",
    "\n",
    "\n",
    "    \n",
    "    try:\n",
    "        t1 = orig_data.FlrOnset.iloc[i]\n",
    "        t2 = orig_data.Flrendtime.iloc[i]\n",
    "        goeslc = lc.GOESLightCurve.create(t1, t2)  \n",
    "        \n",
    "        #calculate the temperature and emission measure\n",
    "        goeslc_new = calculate_temperature_em(goeslc)  \n",
    "\n",
    "        #flare max temp and em\n",
    "        temp.append(goeslclc_new.data.temperature.max())\n",
    "        em.append(goeslc_new.data.em.max())\n",
    "\n",
    "    except:\n",
    "        \n",
    "        print(\"error %i\", i)\n",
    "\n"
   ]
  },
  {
   "cell_type": "code",
   "execution_count": null,
   "metadata": {
    "collapsed": true
   },
   "outputs": [],
   "source": [
    "plt.plot(goeslc.data.xrsa)\n",
    "plt.show()"
   ]
  },
  {
   "cell_type": "code",
   "execution_count": null,
   "metadata": {
    "collapsed": true
   },
   "outputs": [],
   "source": [
    "lc_new = calculate_temperature_em(goeslc) "
   ]
  }
 ],
 "metadata": {
  "kernelspec": {
   "display_name": "Python 3",
   "language": "python",
   "name": "python3"
  },
  "language_info": {
   "codemirror_mode": {
    "name": "ipython",
    "version": 3
   },
   "file_extension": ".py",
   "mimetype": "text/x-python",
   "name": "python",
   "nbconvert_exporter": "python",
   "pygments_lexer": "ipython3",
   "version": "3.6.1"
  }
 },
 "nbformat": 4,
 "nbformat_minor": 2
}
