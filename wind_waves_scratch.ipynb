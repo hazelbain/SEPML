{
 "cells": [
  {
   "cell_type": "code",
   "execution_count": 2,
   "metadata": {
    "collapsed": true
   },
   "outputs": [],
   "source": [
    "from scipy.io import readsav\n",
    "import pandas as pd\n",
    "import numpy as np\n",
    "from datetime import datetime, timedelta\n",
    "\n",
    "import requests\n",
    "from bs4 import BeautifulSoup\n",
    "\n",
    "import urllib.request\n",
    "#from urllib import urlopen\n",
    "\n",
    "import matplotlib.pyplot as plt\n",
    "import matplotlib.dates as mdates\n",
    "import matplotlib.dates as mdates\n",
    "from matplotlib.ticker import MultipleLocator\n",
    "from matplotlib.ticker import MaxNLocator\n",
    "\n",
    "#import seaborn.apionly as sns; sns.set()\n",
    "\n",
    "from spacepy import pycdf\n",
    "\n",
    "from sklearn.utils import shuffle"
   ]
  },
  {
   "cell_type": "markdown",
   "metadata": {},
   "source": [
    "Read in SEP event list"
   ]
  },
  {
   "cell_type": "code",
   "execution_count": 8,
   "metadata": {},
   "outputs": [],
   "source": [
    "#read in the shuffled dataframe of original sep+ctrl events from 1986 - 2004\n",
    "#orig_data = pd.read_csv(\"AllEvtsShuffled_1986_2004.csv\")\n",
    "\n",
    "#read in the original Balch SEP event list with added CME speed and GOES T and EM\n",
    "#orig_data = pd.read_excel(\"ctrlevents.v8p.xls\")\n",
    "\n",
    "#read in the shuffled dataframe of original sep+ctrl events from 1986 - 2004\n",
    "data = pd.read_csv(\"AllEvtsShuffled_1986_2004_t_em.csv\")\n",
    "\n",
    "data.FlrOnset = pd.to_datetime(data.FlrOnset)\n",
    "data.Flrendtime = pd.to_datetime(data.Flrendtime)\n",
    "data.Flrmaxtime = pd.to_datetime(data.Flrmaxtime)\n",
    "\n",
    "#unshuffle the data\n",
    "data.sort_values(by = 'FlrOnset', inplace = True)\n",
    "data.reset_index(inplace = True)\n",
    "data.drop(columns = ['index', 'Unnamed: 0'], inplace = True)"
   ]
  },
  {
   "cell_type": "markdown",
   "metadata": {},
   "source": [
    "Get the Wind WAVES RAD1 1 MHz fluence "
   ]
  },
  {
   "cell_type": "code",
   "execution_count": 9,
   "metadata": {},
   "outputs": [
    {
     "name": "stderr",
     "output_type": "stream",
     "text": [
      "/Users/hazelbain/anaconda/lib/python3.6/site-packages/pandas/core/indexing.py:194: SettingWithCopyWarning: \n",
      "A value is trying to be set on a copy of a slice from a DataFrame\n",
      "\n",
      "See the caveats in the documentation: http://pandas.pydata.org/pandas-docs/stable/indexing.html#indexing-view-versus-copy\n",
      "  self._setitem_with_indexer(indexer, value)\n"
     ]
    }
   ],
   "source": [
    "#pull out just the SEP events\n",
    "#seps = orig_data.query('sep == 1.0')\n",
    "#seps['1MHz_fluence'] = np.nan\n",
    "#seps['1MHz_close_freq'] = np.nan\n",
    "\n",
    "data['1MHz_fluence'] = np.nan\n",
    "data['1MHz_close_freq'] = np.nan\n",
    "\n",
    "for i in range(len(data[0:-2])):\n",
    "    \n",
    "    if data.iloc[i].FlrOnset.year > 1994:\n",
    "        \n",
    "        #print(orig_data.FlrOnset.iloc[i], orig_data.Flrendtime.iloc[i])\n",
    "        \n",
    "        #read the wind WAVES RAD1 CDF files\n",
    "        df, freq = read_rad1(data.iloc[i])\n",
    "\n",
    "        #integrate closest frequency channel to 1MHz from flare start time - 10 mins, to\n",
    "        #flare peak time + 10 mins\n",
    "        J, closest_freq = rad1_1mhz_integrate(data.iloc[i], df, freq)\n",
    "\n",
    "        #print(type(J))\n",
    "        \n",
    "        data['1MHz_fluence'].iloc[i] = J\n",
    "        data['1MHz_close_freq'].iloc[i] = closest_freq\n",
    "\n",
    "        #make a plot\n",
    "        #print(seps.FlrOnset.iloc[i], seps.Flrendtime.iloc[i])\n",
    "        #print('J: %.2E' % J)\n",
    "        #plot_rad1(df, st = seps.FlrOnset.iloc[i], et = seps.Flrendtime.iloc[i], peak  = seps.Flrmaxtime.iloc[i])\n",
    "\n"
   ]
  },
  {
   "cell_type": "code",
   "execution_count": 10,
   "metadata": {},
   "outputs": [
    {
     "data": {
      "image/png": "[encoded data removed]",
      "text/plain": [
       "<matplotlib.figure.Figure at 0x1032d40f0>"
      ]
     },
     "metadata": {},
     "output_type": "display_data"
    }
   ],
   "source": [
    "f, ax = plt.subplots(1,1, figsize = (8, 5))\n",
    "data.boxplot(column=['1MHz_fluence'], by = 'sep', ax = ax)\n",
    "ax.set_yscale('log')\n",
    "ax.set_title('1 MHz Fluence grouped by SEP')\n",
    "plt.suptitle(\" \")\n",
    "ax.set_ylabel('1 MHz Fluence (sfu minutes)')\n",
    "ax.set_xlabel('SEP')\n",
    "plt.show()"
   ]
  },
  {
   "cell_type": "markdown",
   "metadata": {},
   "source": [
    "Save the data"
   ]
  },
  {
   "cell_type": "code",
   "execution_count": 78,
   "metadata": {
    "collapsed": true
   },
   "outputs": [],
   "source": [
    "#shuffle the events so they are not organized \n",
    "data_sh = shuffle(data)\n",
    "\n",
    "#save the shuffled dataframe \n",
    "data_sh.to_csv(\"AllEvtsShuffled_1986_2004_t_em_1mhz.csv\")"
   ]
  },
  {
   "cell_type": "code",
   "execution_count": 79,
   "metadata": {},
   "outputs": [
    {
     "data": {
      "text/plain": [
       "['FlrOnset',\n",
       " 'Flrmaxtime',\n",
       " 'Flrendtime',\n",
       " 'FlrPeakFlux',\n",
       " 'xrscls',\n",
       " 'ocls',\n",
       " 'optlocation',\n",
       " 'region',\n",
       " 'Rpatrol',\n",
       " 'TypeII',\n",
       " 'TII_duration',\n",
       " 'TypeIV',\n",
       " 'TIV_duration',\n",
       " 'CME_Patrol',\n",
       " 'CME_onset',\n",
       " 'CME_speed',\n",
       " 'Satellite',\n",
       " 'FlrHpTime',\n",
       " 'FlrIntFlux',\n",
       " 'FlrIntFlux2',\n",
       " 'Association',\n",
       " 'S1onset',\n",
       " 'S2onset',\n",
       " 'S3onset',\n",
       " 'S4onset',\n",
       " 'S5onset',\n",
       " 'GT100onset',\n",
       " 'sep',\n",
       " 'tchianti',\n",
       " 'emchianti',\n",
       " '1MHz_fluence',\n",
       " '1MHz_close_freq']"
      ]
     },
     "execution_count": 79,
     "metadata": {},
     "output_type": "execute_result"
    }
   ],
   "source": [
    "list(data)"
   ]
  },
  {
   "cell_type": "markdown",
   "metadata": {},
   "source": [
    "### Util Functions\n",
    "\n",
    "Run these functions first"
   ]
  },
  {
   "cell_type": "code",
   "execution_count": 3,
   "metadata": {
    "collapsed": true
   },
   "outputs": [],
   "source": [
    "def plot_rad1(df, st, et, peak):\n",
    "    \n",
    "    \"\"\"Plot of Wind WAVES RAD1 data\"\"\"\n",
    "\n",
    "    #print(st,et)\n",
    "    \n",
    "    #pull out the intensity data (dropping the time column from the dataframe)\n",
    "    intensity = df[list(df)[1::]]\n",
    "\n",
    "    #add +/- 2 hours to the flare time window\n",
    "    st1 = st - timedelta(seconds = 60*60*2)\n",
    "    et1 = et + timedelta(seconds = 60*60*2)\n",
    "\n",
    "    #print(st1,et1)\n",
    "    \n",
    "    #find the corresponding time in the data\n",
    "    st_data = df.query('time >= \"'+datetime.strftime(st1, \"%Y-%m-%d %H:%M:%S\")+'\"')\n",
    "    et_data = df.query('time >= \"'+datetime.strftime(et1, \"%Y-%m-%d %H:%M:%S\")+'\"')\n",
    "\n",
    "    #convert to mdates\n",
    "    st2 = mdates.date2num(st_data.time.iloc[0])\n",
    "    et2 = mdates.date2num(et_data.time.iloc[0])\n",
    "    \n",
    "    #get the indices for the intensity data\n",
    "    stind = st_data.index[0]\n",
    "    etind = et_data.index[0]\n",
    "\n",
    "    #closest frequency channel to 1 MHz\n",
    "    ind1000 = np.argmin(np.abs(freq - 1000))\n",
    "    indstr = str(freq[ind1000]) + 'kHz'\n",
    "    \n",
    "    #plot setup\n",
    "    myFmt = mdates.DateFormatter('%H:%M')\n",
    "    minorLocator   = MultipleLocator(0.1)\n",
    "\n",
    "    f, (ax0, ax1) = plt.subplots(1,2, figsize = (15,5))\n",
    "    \n",
    "    #spectrogram\n",
    "    ax0.imshow(np.transpose(intensity.iloc[stind:etind]), interpolation='nearest', cmap='jet', aspect = 'auto',\\\n",
    "                     extent = [st2, et2, freq[0],freq[-1]])\n",
    "    ax0.set_xlim([st2, et2])\n",
    "    ax0.xaxis.set_major_formatter(myFmt)\n",
    "    ax0.xaxis.set_major_locator( MaxNLocator(integer=True) )\n",
    "    ax0.xaxis.set_minor_locator(minorLocator)\n",
    "    ax0.set_xlabel(\"Start Time \"+str(df.time.iloc[stind])+\" (UTC)\")\n",
    "    ax0.set_ylabel(\"Frequency\")\n",
    "    ax0.set_title(\"Wind WAVES RAD1\")\n",
    "\n",
    "    ax0.axvline(st,c = 'w', linestyle = '--')\n",
    "    ax0.axvline(et,c='w', linestyle = '--')\n",
    "    ax0.axhline(1000,c = 'w', linestyle = '--')\n",
    "    \n",
    "    #1 MHz    \n",
    "    ax1.plot(df.time, df[indstr])\n",
    "    ax1.set_xlim([st2, et2])\n",
    "    ax1.set_ylim(bottom = 0)\n",
    "    ax1.set_ylim(top = np.max(df[indstr].iloc[stind:etind])+0.1*np.max(df[indstr].iloc[stind:etind]))\n",
    "    ax1.xaxis.set_major_formatter(myFmt)\n",
    "    ax1.xaxis.set_major_locator( MaxNLocator(integer=True) )\n",
    "    ax1.xaxis.set_minor_locator(minorLocator)\n",
    "    ax1.set_xlabel(\"Start Time \"+str(df.time.iloc[stind])+\" (UTC)\")\n",
    "    ax1.set_ylabel(\"Intensity\")\n",
    "    ax1.set_title(\"Wind WAVES RAD1 1 MHz\")\n",
    "    \n",
    "    ax1.axvline(st,c = 'black', linestyle = '--')\n",
    "    ax1.axvline(et,c='black', linestyle = '--')\n",
    "\n",
    "    ax1.axvline(st - timedelta(seconds = 10*60), c = 'red', linestyle = '--')\n",
    "    ax1.axvline(peak + timedelta(seconds = 10*60), c='red', linestyle = '--')\n",
    "\n",
    "    plt.show()\n",
    "    \n",
    "    return None"
   ]
  },
  {
   "cell_type": "code",
   "execution_count": 4,
   "metadata": {
    "collapsed": true
   },
   "outputs": [],
   "source": [
    "def rad1_1mhz_integrate(event_df, rad1_df, freq):\n",
    "    \n",
    "    \"\"\"Integrate the Wind WAVE RAD1 1 MHz (or nearest frequency) channel over\n",
    "    the period of the SXR flare. \n",
    "    \n",
    "    integration time: 10 mins prior to GOES SXR flare start time to 10 mins\n",
    "    after the SXR flare peak time. \n",
    "    \n",
    "    \"\"\"\n",
    "    \n",
    "    #integration time\n",
    "    integration_start_time = event_df.FlrOnset - timedelta(seconds = 60*10)\n",
    "    integration_end_time = event_df.Flrmaxtime + timedelta(seconds = 60*10)\n",
    "\n",
    "    #print(integration_start_time, integration_end_time)\n",
    "    \n",
    "    #corresponding indices in RAD1 data\n",
    "    rad1_ind_st = rad1_df.query('time <= \"'+datetime.strftime(integration_start_time, \"%Y-%m-%d %H:%M:%S\")+'\"').index[-1]\n",
    "    rad1_ind_et = rad1_df.query('time >= \"'+datetime.strftime(integration_end_time, \"%Y-%m-%d %H:%M:%S\")+'\"').index[0]\n",
    "\n",
    "    #print(rad1_ind_st, rad1_ind_et)\n",
    "    \n",
    "    #closest frequency channel to 1 MHz\n",
    "    ind1000 = np.argmin(np.abs(freq - 1000))\n",
    "    \n",
    "    #get the active frequency channels - i.e. not the interpolated channels - non zero in background map at start timne of integration\n",
    "    bkg_col_names = [s + 'kHz_bk' for s in freq.astype(str)]\n",
    "    active_freq_ind = np.squeeze(np.asarray(df[bkg_col_names].iloc[rad1_ind_st].values.nonzero()))\n",
    "    closest_active_freq = active_freq_ind[np.argmin(np.abs(active_freq_ind - ind1000))] \n",
    "    \n",
    "    #dataframe column names for closest frequency and corresponding background\n",
    "    closest_active_freq_str = str(freq[closest_active_freq]) + 'kHz' \n",
    "    closest_active_freq_bk_str = str(freq[closest_active_freq]) + 'kHz_bk' \n",
    "    \n",
    "    #convert to sfu minutes\n",
    "    z0 = 377\n",
    "    A = 1225\n",
    "    R = df[closest_active_freq_str].iloc[rad1_ind_st:rad1_ind_et]\n",
    "    B = df[closest_active_freq_bk_str].iloc[rad1_ind_st:rad1_ind_et]\n",
    "    \n",
    "    #R = df['940kHz'].iloc[rad1_ind_st:rad1_ind_et]\n",
    "    #B = df['940kHz_bk'].iloc[rad1_ind_st:rad1_ind_et]\n",
    "    \n",
    "    J = ((10**10) * (R*B)**2 )/ (z0 * A) \n",
    "    \n",
    "    #print(closest_active_freq, freq[closest_active_freq], closest_active_freq_str)\n",
    "    #print(J.sum())\n",
    "    \n",
    "    return J.sum(), freq[closest_active_freq]"
   ]
  },
  {
   "cell_type": "code",
   "execution_count": 5,
   "metadata": {
    "collapsed": true
   },
   "outputs": [],
   "source": [
    "def read_rad1(event):\n",
    "\n",
    "\n",
    "    #find and read in the data from CDF file\n",
    "    path = '/Users/hazelbain/data/wind/waves/wav_hi/'\n",
    "\n",
    "    dt0 = datetime(event.FlrOnset.year, event.FlrOnset.month, event.FlrOnset.day)\n",
    "    dates = [dt0 - timedelta(1), dt0, dt0 + timedelta(1)]\n",
    "    filepaths = [path + str(d.year)+'/wi_h1_wav_'+str(d.year)+str(d.month).zfill(2)+str(d.day).zfill(2)+'_v01.cdf' \\\n",
    "                 for d in dates]\n",
    "\n",
    "    #print(filepaths)\n",
    "\n",
    "    for j, f in enumerate(filepaths):\n",
    "        with pycdf.CDF(f) as cdffile:\n",
    "            if j == 0:\n",
    "                #read\n",
    "                freq = cdffile['Frequency_RAD1'].copy()\n",
    "                time = cdffile['Epoch'].copy()\n",
    "                intensity = cdffile['E_VOLTAGE_RAD1'].copy()\n",
    "                bk_intensity = np.repeat(cdffile['Minimum_voltage_RAD1'].copy(), len(time), axis = 0)\n",
    "\n",
    "                data = cdffile.copy()\n",
    "                #print(bk_intensity.shape)\n",
    "            else:\n",
    "                #read\n",
    "                time_tmp = cdffile['Epoch'].copy()\n",
    "                intensity_tmp = cdffile['E_VOLTAGE_RAD1'].copy()\n",
    "                bk_intensity_tmp = np.repeat(cdffile['Minimum_voltage_RAD1'].copy(), len(time_tmp), axis = 0)\n",
    "\n",
    "                #append\n",
    "                time = np.hstack([time,time_tmp])\n",
    "                intensity = np.vstack([intensity, intensity_tmp])\n",
    "                bk_intensity = np.vstack([bk_intensity, bk_intensity_tmp])\n",
    "\n",
    "\n",
    "    #create dataframe\n",
    "    colnames = [s + 'kHz' for s in np.flip(freq,0).astype(str)] + [s + 'kHz_bk' for s in np.flip(freq,0).astype(str)]\n",
    "    datacols = np.hstack([np.flip(intensity,1), np.flip(bk_intensity,1)])\n",
    "    df = pd.DataFrame(datacols, columns = colnames)\n",
    "    df['time'] = time\n",
    "\n",
    "    #rearrange columns so time is first column\n",
    "    colnames2 = list(df)\n",
    "    cols = colnames2[-1:] + colnames2[:-1]\n",
    "    df = df[cols]\n",
    "\n",
    "    return df, freq\n",
    "\n"
   ]
  },
  {
   "cell_type": "code",
   "execution_count": null,
   "metadata": {
    "collapsed": true
   },
   "outputs": [],
   "source": []
  },
  {
   "cell_type": "code",
   "execution_count": null,
   "metadata": {
    "collapsed": true
   },
   "outputs": [],
   "source": []
  },
  {
   "cell_type": "code",
   "execution_count": null,
   "metadata": {
    "collapsed": true
   },
   "outputs": [],
   "source": []
  },
  {
   "cell_type": "code",
   "execution_count": null,
   "metadata": {
    "collapsed": true
   },
   "outputs": [],
   "source": []
  },
  {
   "cell_type": "code",
   "execution_count": null,
   "metadata": {
    "collapsed": true
   },
   "outputs": [],
   "source": []
  },
  {
   "cell_type": "code",
   "execution_count": null,
   "metadata": {
    "collapsed": true
   },
   "outputs": [],
   "source": []
  },
  {
   "cell_type": "code",
   "execution_count": null,
   "metadata": {
    "collapsed": true
   },
   "outputs": [],
   "source": []
  },
  {
   "cell_type": "code",
   "execution_count": null,
   "metadata": {
    "collapsed": true
   },
   "outputs": [],
   "source": []
  },
  {
   "cell_type": "code",
   "execution_count": null,
   "metadata": {
    "collapsed": true
   },
   "outputs": [],
   "source": []
  },
  {
   "cell_type": "code",
   "execution_count": null,
   "metadata": {
    "collapsed": true
   },
   "outputs": [],
   "source": []
  },
  {
   "cell_type": "code",
   "execution_count": null,
   "metadata": {
    "collapsed": true
   },
   "outputs": [],
   "source": []
  },
  {
   "cell_type": "code",
   "execution_count": null,
   "metadata": {
    "collapsed": true
   },
   "outputs": [],
   "source": []
  },
  {
   "cell_type": "code",
   "execution_count": null,
   "metadata": {
    "collapsed": true
   },
   "outputs": [],
   "source": []
  },
  {
   "cell_type": "code",
   "execution_count": null,
   "metadata": {
    "collapsed": true
   },
   "outputs": [],
   "source": []
  }
 ],
 "metadata": {
  "kernelspec": {
   "display_name": "Python 3",
   "language": "python",
   "name": "python3"
  },
  "language_info": {
   "codemirror_mode": {
    "name": "ipython",
    "version": 3
   },
   "file_extension": ".py",
   "mimetype": "text/x-python",
   "name": "python",
   "nbconvert_exporter": "python",
   "pygments_lexer": "ipython3",
   "version": "3.6.1"
  }
 },
 "nbformat": 4,
 "nbformat_minor": 2
}
