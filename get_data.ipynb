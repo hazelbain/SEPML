{
 "cells": [
  {
   "cell_type": "code",
   "execution_count": 1,
   "metadata": {
    "collapsed": true
   },
   "outputs": [],
   "source": [
    "%load_ext autoreload\n",
    "%autoreload 2"
   ]
  },
  {
   "cell_type": "code",
   "execution_count": 32,
   "metadata": {},
   "outputs": [],
   "source": [
    "import LASCO_catalog as lasco\n",
    "import flare_persist as fp\n",
    "import wind_waves_scratch as ww\n",
    "\n",
    "import pandas as pd\n",
    "import matplotlib as plt\n",
    "import numpy as np"
   ]
  },
  {
   "cell_type": "code",
   "execution_count": 7,
   "metadata": {
    "collapsed": true
   },
   "outputs": [],
   "source": [
    "#read in lasco flare catalog \n",
    "#lasco_df = lasco.read_lasco_cat()\n",
    "lasco_df = pd.read_csv(\"LASCO_cat.csv\")\n",
    "\n",
    "#read in the original control events xls file\n",
    "flare_df = pd.read_excel(\"ControlEvents_student.xls\")"
   ]
  },
  {
   "cell_type": "code",
   "execution_count": 8,
   "metadata": {},
   "outputs": [
    {
     "name": "stderr",
     "output_type": "stream",
     "text": [
      "/Users/hazelbain/Dropbox/SEPML/SEPML/LASCO_catalog.py:125: SettingWithCopyWarning: \n",
      "A value is trying to be set on a copy of a slice from a DataFrame\n",
      "\n",
      "See the caveats in the documentation: http://pandas.pydata.org/pandas-docs/stable/indexing.html#indexing-view-versus-copy\n",
      "  flare_df['Width'][idx] = width\n"
     ]
    }
   ],
   "source": [
    "#add in the CME widths to the files flare that are missing that info\n",
    "flare_df = lasco.add_cme_width(flare_df,lasco_df)\n",
    "\n",
    "#adding y label column indicating positive and negative SEP events - SEP events have Association = ProtonFlare\n",
    "flare_df['sep'] = flare_df.Association.str.contains('^Proton').astype(int)\n",
    "\n",
    "#convert the type II and type IV association to binary \n",
    "flare_df.TypeII = (flare_df.TypeII.str.lower() == \"yes\").astype(int)\n",
    "flare_df.TypeIV = (flare_df.TypeIV.str.lower() == \"yes\").astype(int)\n",
    "\n",
    "# Remove rows where optlocation = nan\n",
    "flare_df = flare_df[flare_df.optlocation.astype('str') != 'nan']\n",
    "\n",
    "#drop 7 samples where dfTrain FlrIntFlux2 is erroneously greater than 1000.0 (all control events)\n",
    "flare_df = flare_df[flare_df.FlrIntFlux2 < 1000.0]\n",
    "\n",
    "#replace all -1 cmespeed values with NaN\n",
    "flare_df.cmespeed.replace(-1,np.nan, inplace = True)\n",
    "\n"
   ]
  },
  {
   "cell_type": "code",
   "execution_count": 13,
   "metadata": {},
   "outputs": [],
   "source": [
    "#once the RAD1 data has copied over =, run the rad1 analysis\n",
    "#flare_df= ww.rad1_analysis(flare_df)\n"
   ]
  },
  {
   "cell_type": "code",
   "execution_count": null,
   "metadata": {
    "collapsed": true
   },
   "outputs": [],
   "source": [
    "#save the csv file before running persistence in case the code dies\n",
    "\n",
    "#!!!!!! UPDATE THE NAME OF THE CSV TO INCLUDE LIST OF FEATURES INCLUDED AND YEARS !!!!\n",
    "flare_df.to_csv('ML_test.csv')\n"
   ]
  },
  {
   "cell_type": "code",
   "execution_count": 27,
   "metadata": {},
   "outputs": [
    {
     "name": "stderr",
     "output_type": "stream",
     "text": [
      "/Users/hazelbain/Dropbox/SEPML/SEPML/flare_persist.py:85: SettingWithCopyWarning: \n",
      "A value is trying to be set on a copy of a slice from a DataFrame.\n",
      "Try using .loc[row_indexer,col_indexer] = value instead\n",
      "\n",
      "See the caveats in the documentation: http://pandas.pydata.org/pandas-docs/stable/indexing.html#indexing-view-versus-copy\n",
      "  flare_df['FlarePersistence'] = flare_per\n"
     ]
    }
   ],
   "source": [
    "#run flare persistence for 24 hours\n",
    "flare_df  = fp.flare_persistence(flare_df,24)"
   ]
  },
  {
   "cell_type": "code",
   "execution_count": null,
   "metadata": {
    "collapsed": true
   },
   "outputs": [],
   "source": [
    "#Re save the dataframe once flare persistence has finished\n",
    "\n",
    "#!!!!!! UPDATE THE NAME OF THE CSV TO INCLUDE LIST OF FEATURES INCLUDED AND YEARS !!!!\n",
    "\n",
    "flare_df.to_csv('ML_test.csv')"
   ]
  },
  {
   "cell_type": "code",
   "execution_count": null,
   "metadata": {
    "collapsed": true
   },
   "outputs": [],
   "source": []
  },
  {
   "cell_type": "code",
   "execution_count": null,
   "metadata": {
    "collapsed": true
   },
   "outputs": [],
   "source": []
  },
  {
   "cell_type": "code",
   "execution_count": null,
   "metadata": {
    "collapsed": true
   },
   "outputs": [],
   "source": []
  },
  {
   "cell_type": "code",
   "execution_count": null,
   "metadata": {
    "collapsed": true
   },
   "outputs": [],
   "source": []
  },
  {
   "cell_type": "code",
   "execution_count": null,
   "metadata": {
    "collapsed": true
   },
   "outputs": [],
   "source": []
  },
  {
   "cell_type": "code",
   "execution_count": null,
   "metadata": {
    "collapsed": true
   },
   "outputs": [],
   "source": []
  },
  {
   "cell_type": "code",
   "execution_count": null,
   "metadata": {
    "collapsed": true
   },
   "outputs": [],
   "source": []
  },
  {
   "cell_type": "code",
   "execution_count": null,
   "metadata": {
    "collapsed": true
   },
   "outputs": [],
   "source": []
  },
  {
   "cell_type": "code",
   "execution_count": null,
   "metadata": {
    "collapsed": true
   },
   "outputs": [],
   "source": []
  },
  {
   "cell_type": "code",
   "execution_count": null,
   "metadata": {
    "collapsed": true
   },
   "outputs": [],
   "source": [
    "import matplotlib.pyplot as plt\n",
    "import numpy as np\n",
    "\n",
    "\n",
    "#plt.subplot(3,3,1)\n",
    "boxplt = flare_df.boxplot(column = 'FlrPeakFlux',by = 'sep',layout = (1,1))\n",
    "[ax_tmp.set_xlabel('SEP') for ax_tmp in np.asarray(boxplt).reshape(-1)]\n",
    "fig = np.asarray(boxplt).reshape(-1)[0].get_figure()\n",
    "fig.suptitle('')\n",
    "\n",
    "\n",
    "boxplt = flare_df.boxplot(column = 'Width',by = 'sep',layout = (1,1))\n",
    "[ax_tmp.set_xlabel('SEP') for ax_tmp in np.asarray(boxplt).reshape(-1)]\n",
    "fig = np.asarray(boxplt).reshape(-1)[0].get_figure()\n",
    "fig.suptitle('')\n",
    "#plt.show()\n",
    "\n",
    "boxplt = flare_df.boxplot(column = 'cmespeed',by = 'sep',layout = (1,1))\n",
    "[ax_tmp.set_xlabel('SEP') for ax_tmp in np.asarray(boxplt).reshape(-1)]\n",
    "fig = np.asarray(boxplt).reshape(-1)[0].get_figure()\n",
    "fig.suptitle('')\n",
    "plt.show()\n",
    "\n",
    "boxplt = flare_df.boxplot(column = 'FlrIntFlux',by = 'sep',layout = (1,1))\n",
    "[ax_tmp.set_xlabel('SEP') for ax_tmp in np.asarray(boxplt).reshape(-1)]\n",
    "fig = np.asarray(boxplt).reshape(-1)[0].get_figure()\n",
    "fig.suptitle('')\n",
    "plt.show()\n",
    "\n",
    "boxplt = flare_df.boxplot(column = 'FlrIntFlux2',by = 'sep',layout = (1,1))\n",
    "[ax_tmp.set_xlabel('SEP') for ax_tmp in np.asarray(boxplt).reshape(-1)]\n",
    "fig = np.asarray(boxplt).reshape(-1)[0].get_figure()\n",
    "fig.suptitle('')\n",
    "plt.show()\n",
    "\n",
    "boxplt = flare_df.boxplot(column = 'emchianti',by = 'sep',layout = (1,1))\n",
    "[ax_tmp.set_xlabel('SEP') for ax_tmp in np.asarray(boxplt).reshape(-1)]\n",
    "fig = np.asarray(boxplt).reshape(-1)[0].get_figure()\n",
    "fig.suptitle('')\n",
    "plt.show()\n",
    "\n",
    "boxplt = flare_df.boxplot(column = 'tchianti',by = 'sep',layout = (1,1))\n",
    "[ax_tmp.set_xlabel('SEP') for ax_tmp in np.asarray(boxplt).reshape(-1)]\n",
    "fig = np.asarray(boxplt).reshape(-1)[0].get_figure()\n",
    "fig.suptitle('')\n",
    "plt.show()\n",
    "\n",
    "boxplt = flare_df.boxplot(column = 'FlarePersistence8',by = 'sep',layout = (1,1))\n",
    "[ax_tmp.set_xlabel('SEP') for ax_tmp in np.asarray(boxplt).reshape(-1)]\n",
    "fig = np.asarray(boxplt).reshape(-1)[0].get_figure()\n",
    "fig.suptitle('')\n",
    "plt.show()\n"
   ]
  }
 ],
 "metadata": {
  "kernelspec": {
   "display_name": "Python 3",
   "language": "python",
   "name": "python3"
  },
  "language_info": {
   "codemirror_mode": {
    "name": "ipython",
    "version": 3
   },
   "file_extension": ".py",
   "mimetype": "text/x-python",
   "name": "python",
   "nbconvert_exporter": "python",
   "pygments_lexer": "ipython3",
   "version": "3.6.7"
  }
 },
 "nbformat": 4,
 "nbformat_minor": 2
}
