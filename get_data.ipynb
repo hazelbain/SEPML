{
 "cells": [
  {
   "cell_type": "code",
   "execution_count": 1,
   "metadata": {},
   "outputs": [],
   "source": [
    "%load_ext autoreload\n",
    "%autoreload 2"
   ]
  },
  {
   "cell_type": "code",
   "execution_count": 2,
   "metadata": {},
   "outputs": [
    {
     "name": "stderr",
     "output_type": "stream",
     "text": [
      "C:\\ProgramData\\Anaconda3\\lib\\site-packages\\sunpy\\lightcurve\\__init__.py:18: SunpyDeprecationWarning: As of v0.8.0, the `sunpy.lightcurve` module is deprecated and will be removed in a future version. Use `sunpy.timeseries` or `sunpy.map` for coordinate transformations.\n",
      "  _SunpyDeprecationWarning)\n"
     ]
    }
   ],
   "source": [
    "import LASCO_catalog as lasco\n",
    "import flare_persist as fp\n",
    "import pandas as pd\n",
    "import matplotlib as plt\n",
    "import numpy as np"
   ]
  },
  {
   "cell_type": "code",
   "execution_count": 3,
   "metadata": {},
   "outputs": [],
   "source": [
    "#lasco_df = lasco.read_lasco_cat()\n",
    "lasco_df = pd.read_csv(\"LASCO_cat.csv\")"
   ]
  },
  {
   "cell_type": "code",
   "execution_count": 4,
   "metadata": {},
   "outputs": [],
   "source": [
    "flare_df = pd.read_excel(\"ControlEvents_student.xls\")\n",
    "#flare_df = flare_df.iloc[4000:4199] "
   ]
  },
  {
   "cell_type": "code",
   "execution_count": 5,
   "metadata": {},
   "outputs": [
    {
     "name": "stderr",
     "output_type": "stream",
     "text": [
      "C:\\Users\\pedro.brea\\SEPML\\LASCO_catalog.py:125: SettingWithCopyWarning: \n",
      "A value is trying to be set on a copy of a slice from a DataFrame\n",
      "\n",
      "See the caveats in the documentation: http://pandas.pydata.org/pandas-docs/stable/indexing.html#indexing-view-versus-copy\n",
      "  flare_df['Width'][idx] = width\n",
      "C:\\ProgramData\\Anaconda3\\lib\\site-packages\\astropy\\units\\quantity.py:463: RuntimeWarning: invalid value encountered in less\n",
      "  result = super().__array_ufunc__(function, method, *arrays, **kwargs)\n",
      "C:\\ProgramData\\Anaconda3\\lib\\site-packages\\astropy\\units\\quantity.py:463: RuntimeWarning: invalid value encountered in greater\n",
      "  result = super().__array_ufunc__(function, method, *arrays, **kwargs)\n"
     ]
    }
   ],
   "source": [
    "flare_df = lasco.add_cme_width(flare_df,lasco_df)\n",
    "flare_df = fp.flare_persistence(flare_df,12)"
   ]
  },
  {
   "cell_type": "code",
   "execution_count": 6,
   "metadata": {},
   "outputs": [],
   "source": [
    "#adding y label column indicating positive and negative SEP events - SEP events have Association = ProtonFlare\n",
    "flare_df['sep'] = flare_df.Association.str.contains('^Proton').astype(int)\n",
    "\n",
    "#convert the type II and type IV association to binary \n",
    "flare_df.TypeII = (flare_df.TypeII.str.lower() == \"yes\").astype(int)\n",
    "flare_df.TypeIV = (flare_df.TypeIV.str.lower() == \"yes\").astype(int)\n",
    "\n",
    "# Remove rows where optlocation = nan\n",
    "flare_df = flare_df[flare_df.optlocation.astype('str') != 'nan']\n",
    "\n",
    "#drop 7 samples where dfTrain FlrIntFlux2 is erroneously greater than 1000.0 (all control events)\n",
    "flare_df = flare_df[flare_df.FlrIntFlux2 < 1000.0]\n",
    "\n",
    "#replace all -1 cmespeed values with NaN\n",
    "flare_df.cmespeed.replace(-1,np.nan, inplace = True)"
   ]
  },
  {
   "cell_type": "code",
   "execution_count": null,
   "metadata": {},
   "outputs": [],
   "source": [
    "#flare_df = flare_df.dropna(how='any')"
   ]
  },
  {
   "cell_type": "code",
   "execution_count": null,
   "metadata": {},
   "outputs": [],
   "source": [
    "flare_df.to_csv('ML_test.csv')"
   ]
  },
  {
   "cell_type": "code",
   "execution_count": null,
   "metadata": {},
   "outputs": [],
   "source": [
    "import matplotlib.pyplot as plt\n",
    "import numpy as np\n",
    "\n",
    "\n",
    "#plt.subplot(3,3,1)\n",
    "boxplt = flare_df.boxplot(column = 'FlrPeakFlux',by = 'sep',layout = (1,1))\n",
    "[ax_tmp.set_xlabel('SEP') for ax_tmp in np.asarray(boxplt).reshape(-1)]\n",
    "fig = np.asarray(boxplt).reshape(-1)[0].get_figure()\n",
    "fig.suptitle('')\n",
    "\n",
    "\n",
    "boxplt = flare_df.boxplot(column = 'Width',by = 'sep',layout = (1,1))\n",
    "[ax_tmp.set_xlabel('SEP') for ax_tmp in np.asarray(boxplt).reshape(-1)]\n",
    "fig = np.asarray(boxplt).reshape(-1)[0].get_figure()\n",
    "fig.suptitle('')\n",
    "#plt.show()\n",
    "\n",
    "boxplt = flare_df.boxplot(column = 'cmespeed',by = 'sep',layout = (1,1))\n",
    "[ax_tmp.set_xlabel('SEP') for ax_tmp in np.asarray(boxplt).reshape(-1)]\n",
    "fig = np.asarray(boxplt).reshape(-1)[0].get_figure()\n",
    "fig.suptitle('')\n",
    "plt.show()\n",
    "\n",
    "boxplt = flare_df.boxplot(column = 'FlrIntFlux',by = 'sep',layout = (1,1))\n",
    "[ax_tmp.set_xlabel('SEP') for ax_tmp in np.asarray(boxplt).reshape(-1)]\n",
    "fig = np.asarray(boxplt).reshape(-1)[0].get_figure()\n",
    "fig.suptitle('')\n",
    "plt.show()\n",
    "\n",
    "boxplt = flare_df.boxplot(column = 'FlrIntFlux2',by = 'sep',layout = (1,1))\n",
    "[ax_tmp.set_xlabel('SEP') for ax_tmp in np.asarray(boxplt).reshape(-1)]\n",
    "fig = np.asarray(boxplt).reshape(-1)[0].get_figure()\n",
    "fig.suptitle('')\n",
    "plt.show()\n",
    "\n",
    "boxplt = flare_df.boxplot(column = 'emchianti',by = 'sep',layout = (1,1))\n",
    "[ax_tmp.set_xlabel('SEP') for ax_tmp in np.asarray(boxplt).reshape(-1)]\n",
    "fig = np.asarray(boxplt).reshape(-1)[0].get_figure()\n",
    "fig.suptitle('')\n",
    "plt.show()\n",
    "\n",
    "boxplt = flare_df.boxplot(column = 'tchianti',by = 'sep',layout = (1,1))\n",
    "[ax_tmp.set_xlabel('SEP') for ax_tmp in np.asarray(boxplt).reshape(-1)]\n",
    "fig = np.asarray(boxplt).reshape(-1)[0].get_figure()\n",
    "fig.suptitle('')\n",
    "plt.show()\n",
    "\n",
    "boxplt = flare_df.boxplot(column = 'FlarePersistence8',by = 'sep',layout = (1,1))\n",
    "[ax_tmp.set_xlabel('SEP') for ax_tmp in np.asarray(boxplt).reshape(-1)]\n",
    "fig = np.asarray(boxplt).reshape(-1)[0].get_figure()\n",
    "fig.suptitle('')\n",
    "plt.show()\n"
   ]
  }
 ],
 "metadata": {
  "kernelspec": {
   "display_name": "Python 3",
   "language": "python",
   "name": "python3"
  },
  "language_info": {
   "codemirror_mode": {
    "name": "ipython",
    "version": 3
   },
   "file_extension": ".py",
   "mimetype": "text/x-python",
   "name": "python",
   "nbconvert_exporter": "python",
   "pygments_lexer": "ipython3",
   "version": "3.7.3"
  }
 },
 "nbformat": 4,
 "nbformat_minor": 2
}
