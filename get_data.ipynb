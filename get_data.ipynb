{
 "cells": [
  {
   "cell_type": "code",
   "execution_count": 44,
   "metadata": {},
   "outputs": [
    {
     "name": "stdout",
     "output_type": "stream",
     "text": [
      "The autoreload extension is already loaded. To reload it, use:\n",
      "  %reload_ext autoreload\n"
     ]
    }
   ],
   "source": [
    "%load_ext autoreload\n",
    "%autoreload 2"
   ]
  },
  {
   "cell_type": "code",
   "execution_count": 119,
   "metadata": {},
   "outputs": [],
   "source": [
    "import LASCO_catalog as lasco\n",
    "import flare_persist as fp\n",
    "import wind_waves_scratch as ww\n",
    "\n",
    "import pandas as pd\n",
    "import matplotlib as plt\n",
    "import numpy as np"
   ]
  },
  {
   "cell_type": "code",
   "execution_count": 120,
   "metadata": {
    "collapsed": true
   },
   "outputs": [],
   "source": [
    "#read in lasco flare catalog \n",
    "#lasco_df = lasco.read_lasco_cat()\n",
    "lasco_df = pd.read_csv(\"LASCO_cat.csv\")\n",
    "\n",
    "#read in the original control events xls file\n",
    "flare_df = pd.read_excel(\"ControlEvents_student.xls\")"
   ]
  },
  {
   "cell_type": "code",
   "execution_count": 121,
   "metadata": {},
   "outputs": [
    {
     "name": "stderr",
     "output_type": "stream",
     "text": [
      "/Users/hazelbain/Dropbox/SEPML/SEPML/LASCO_catalog.py:125: SettingWithCopyWarning: \n",
      "A value is trying to be set on a copy of a slice from a DataFrame\n",
      "\n",
      "See the caveats in the documentation: http://pandas.pydata.org/pandas-docs/stable/indexing.html#indexing-view-versus-copy\n",
      "  flare_df['Width'][idx] = width\n"
     ]
    }
   ],
   "source": [
    "#add in the CME widths to the files flare that are missing that info\n",
    "flare_df = lasco.add_cme_width(flare_df,lasco_df)\n",
    "\n",
    "#adding y label column indicating positive and negative SEP events - SEP events have Association = ProtonFlare\n",
    "flare_df['sep'] = flare_df.Association.str.contains('^Proton').astype(int)\n",
    "\n",
    "#convert the type II and type IV association to binary \n",
    "flare_df.TypeII = (flare_df.TypeII.str.lower() == \"yes\").astype(int)\n",
    "flare_df.TypeIV = (flare_df.TypeIV.str.lower() == \"yes\").astype(int)\n",
    "\n",
    "# Remove rows where optlocation = nan\n",
    "flare_df = flare_df[flare_df.optlocation.astype('str') != 'nan']\n",
    "\n",
    "#drop 7 samples where dfTrain FlrIntFlux2 is erroneously greater than 1000.0 (all control events)\n",
    "flare_df = flare_df[flare_df.FlrIntFlux2 < 1000.0]\n",
    "\n",
    "#replace all -1 cmespeed values with NaN\n",
    "flare_df.cmespeed.replace(-1,np.nan, inplace = True)\n",
    "\n"
   ]
  },
  {
   "cell_type": "code",
   "execution_count": 123,
   "metadata": {},
   "outputs": [
    {
     "name": "stderr",
     "output_type": "stream",
     "text": [
      "/Users/hazelbain/anaconda/lib/python3.6/site-packages/pandas/core/indexing.py:194: SettingWithCopyWarning: \n",
      "A value is trying to be set on a copy of a slice from a DataFrame\n",
      "\n",
      "See the caveats in the documentation: http://pandas.pydata.org/pandas-docs/stable/indexing.html#indexing-view-versus-copy\n",
      "  self._setitem_with_indexer(indexer, value)\n"
     ]
    }
   ],
   "source": [
    "#once the RAD1 data has copied over =, run the rad1 analysis\n",
    "flare_df= ww.rad1_analysis(flare_df)\n",
    "flare_df['typeIII_int'] = flare_df['1MHz_fluence']"
   ]
  },
  {
   "cell_type": "code",
   "execution_count": 127,
   "metadata": {
    "collapsed": true
   },
   "outputs": [],
   "source": [
    "#save the csv file before running persistence in case the code dies\n",
    "\n",
    "#!!!!!! UPDATE THE NAME OF THE CSV TO INCLUDE LIST OF FEATURES INCLUDED AND YEARS !!!!\n",
    "flare_df.to_csv('ControlEvents_1986_2004_allfeat.csv')\n"
   ]
  },
  {
   "cell_type": "code",
   "execution_count": 135,
   "metadata": {},
   "outputs": [],
   "source": [
    "#run flare persistence for 24 hours\n",
    "flare_df  = fp.flare_persistence(flare_df,24)"
   ]
  },
  {
   "cell_type": "code",
   "execution_count": 154,
   "metadata": {
    "collapsed": true
   },
   "outputs": [],
   "source": [
    "#Re save the dataframe once flare persistence has finished\n",
    "\n",
    "#!!!!!! UPDATE THE NAME OF THE CSV TO INCLUDE LIST OF FEATURES INCLUDED AND YEARS !!!!\n",
    "\n",
    "flare_df.to_csv('ControlEvents_1986_2004_allfeat2.csv')"
   ]
  },
  {
   "cell_type": "code",
   "execution_count": 149,
   "metadata": {},
   "outputs": [],
   "source": [
    "tmp = flare_df[flare_df.FlarePersistence.isna()]"
   ]
  },
  {
   "cell_type": "code",
   "execution_count": 153,
   "metadata": {},
   "outputs": [
    {
     "data": {
      "text/html": [
       "<div>\n",
       "<style scoped>\n",
       "    .dataframe tbody tr th:only-of-type {\n",
       "        vertical-align: middle;\n",
       "    }\n",
       "\n",
       "    .dataframe tbody tr th {\n",
       "        vertical-align: top;\n",
       "    }\n",
       "\n",
       "    .dataframe thead th {\n",
       "        text-align: right;\n",
       "    }\n",
       "</style>\n",
       "<table border=\"1\" class=\"dataframe\">\n",
       "  <thead>\n",
       "    <tr style=\"text-align: right;\">\n",
       "      <th></th>\n",
       "      <th>FlrOnset</th>\n",
       "      <th>Flrmaxtime</th>\n",
       "      <th>Flrendtime</th>\n",
       "      <th>FlrPeakFlux</th>\n",
       "      <th>Flareq</th>\n",
       "      <th>xrsclass</th>\n",
       "      <th>optclass</th>\n",
       "      <th>optlocation</th>\n",
       "      <th>region</th>\n",
       "      <th>radiopatrol</th>\n",
       "      <th>...</th>\n",
       "      <th>S3</th>\n",
       "      <th>S4</th>\n",
       "      <th>S5</th>\n",
       "      <th>GT100</th>\n",
       "      <th>Width</th>\n",
       "      <th>sep</th>\n",
       "      <th>1MHz_fluence</th>\n",
       "      <th>1MHz_close_freq</th>\n",
       "      <th>typeIII_int</th>\n",
       "      <th>FlarePersistence</th>\n",
       "    </tr>\n",
       "  </thead>\n",
       "  <tbody>\n",
       "    <tr>\n",
       "      <th>2267</th>\n",
       "      <td>1991-09-29T14:56:00.000</td>\n",
       "      <td>1991-09-29T15:33:00.000</td>\n",
       "      <td>1991-09-29T18:56:00.000</td>\n",
       "      <td>0.000073</td>\n",
       "      <td>16.0</td>\n",
       "      <td>M7.3</td>\n",
       "      <td>4B</td>\n",
       "      <td>S21E32</td>\n",
       "      <td>6853</td>\n",
       "      <td>Yes</td>\n",
       "      <td>...</td>\n",
       "      <td>NaN</td>\n",
       "      <td>NaN</td>\n",
       "      <td>NaN</td>\n",
       "      <td>NaN</td>\n",
       "      <td>NaN</td>\n",
       "      <td>1</td>\n",
       "      <td>NaN</td>\n",
       "      <td>NaN</td>\n",
       "      <td>NaN</td>\n",
       "      <td>NaN</td>\n",
       "    </tr>\n",
       "    <tr>\n",
       "      <th>2319</th>\n",
       "      <td>1991-10-27T05:36:00.000</td>\n",
       "      <td>1991-10-27T05:47:00.000</td>\n",
       "      <td>1991-10-27T07:21:00.000</td>\n",
       "      <td>0.000614</td>\n",
       "      <td>-1.0</td>\n",
       "      <td>X6.1</td>\n",
       "      <td>3B</td>\n",
       "      <td>S13E15</td>\n",
       "      <td>6891</td>\n",
       "      <td>Yes</td>\n",
       "      <td>...</td>\n",
       "      <td>NaN</td>\n",
       "      <td>NaN</td>\n",
       "      <td>NaN</td>\n",
       "      <td>NaN</td>\n",
       "      <td>NaN</td>\n",
       "      <td>1</td>\n",
       "      <td>NaN</td>\n",
       "      <td>NaN</td>\n",
       "      <td>NaN</td>\n",
       "      <td>NaN</td>\n",
       "    </tr>\n",
       "    <tr>\n",
       "      <th>2640</th>\n",
       "      <td>1992-05-08T14:43:00.000</td>\n",
       "      <td>1992-05-08T15:45:00.000</td>\n",
       "      <td>1992-05-09T08:37:00.000</td>\n",
       "      <td>0.000074</td>\n",
       "      <td>16.0</td>\n",
       "      <td>M7.4</td>\n",
       "      <td>4B</td>\n",
       "      <td>S26E08</td>\n",
       "      <td>7154</td>\n",
       "      <td>Yes</td>\n",
       "      <td>...</td>\n",
       "      <td>NaN</td>\n",
       "      <td>NaN</td>\n",
       "      <td>NaN</td>\n",
       "      <td>NaN</td>\n",
       "      <td>NaN</td>\n",
       "      <td>1</td>\n",
       "      <td>NaN</td>\n",
       "      <td>NaN</td>\n",
       "      <td>NaN</td>\n",
       "      <td>NaN</td>\n",
       "    </tr>\n",
       "    <tr>\n",
       "      <th>2677</th>\n",
       "      <td>1992-08-03T06:21:00.000</td>\n",
       "      <td>1992-08-03T07:06:00.000</td>\n",
       "      <td>1992-08-03T08:23:00.000</td>\n",
       "      <td>0.000048</td>\n",
       "      <td>16.0</td>\n",
       "      <td>M4.8</td>\n",
       "      <td>1N</td>\n",
       "      <td>S09E68</td>\n",
       "      <td>7248</td>\n",
       "      <td>Yes</td>\n",
       "      <td>...</td>\n",
       "      <td>NaN</td>\n",
       "      <td>NaN</td>\n",
       "      <td>NaN</td>\n",
       "      <td>NaN</td>\n",
       "      <td>NaN</td>\n",
       "      <td>1</td>\n",
       "      <td>NaN</td>\n",
       "      <td>NaN</td>\n",
       "      <td>NaN</td>\n",
       "      <td>NaN</td>\n",
       "    </tr>\n",
       "    <tr>\n",
       "      <th>2805</th>\n",
       "      <td>1993-03-12T16:02:00.000</td>\n",
       "      <td>1993-03-12T18:15:00.000</td>\n",
       "      <td>1993-03-12T23:43:00.000</td>\n",
       "      <td>0.000070</td>\n",
       "      <td>16.0</td>\n",
       "      <td>M7.0</td>\n",
       "      <td>3B</td>\n",
       "      <td>S00W51</td>\n",
       "      <td>7440</td>\n",
       "      <td>Yes</td>\n",
       "      <td>...</td>\n",
       "      <td>NaN</td>\n",
       "      <td>NaN</td>\n",
       "      <td>NaN</td>\n",
       "      <td>NaN</td>\n",
       "      <td>NaN</td>\n",
       "      <td>1</td>\n",
       "      <td>NaN</td>\n",
       "      <td>NaN</td>\n",
       "      <td>NaN</td>\n",
       "      <td>NaN</td>\n",
       "    </tr>\n",
       "  </tbody>\n",
       "</table>\n",
       "<p>5 rows × 39 columns</p>\n",
       "</div>"
      ],
      "text/plain": [
       "                     FlrOnset               Flrmaxtime  \\\n",
       "2267  1991-09-29T14:56:00.000  1991-09-29T15:33:00.000   \n",
       "2319  1991-10-27T05:36:00.000  1991-10-27T05:47:00.000   \n",
       "2640  1992-05-08T14:43:00.000  1992-05-08T15:45:00.000   \n",
       "2677  1992-08-03T06:21:00.000  1992-08-03T07:06:00.000   \n",
       "2805  1993-03-12T16:02:00.000  1993-03-12T18:15:00.000   \n",
       "\n",
       "                   Flrendtime  FlrPeakFlux  Flareq xrsclass optclass  \\\n",
       "2267  1991-09-29T18:56:00.000     0.000073    16.0     M7.3       4B   \n",
       "2319  1991-10-27T07:21:00.000     0.000614    -1.0     X6.1       3B   \n",
       "2640  1992-05-09T08:37:00.000     0.000074    16.0     M7.4       4B   \n",
       "2677  1992-08-03T08:23:00.000     0.000048    16.0     M4.8       1N   \n",
       "2805  1993-03-12T23:43:00.000     0.000070    16.0     M7.0       3B   \n",
       "\n",
       "     optlocation region radiopatrol        ...         S3  S4   S5  GT100  \\\n",
       "2267      S21E32   6853         Yes        ...        NaN NaN  NaN    NaN   \n",
       "2319      S13E15   6891         Yes        ...        NaN NaN  NaN    NaN   \n",
       "2640      S26E08   7154         Yes        ...        NaN NaN  NaN    NaN   \n",
       "2677      S09E68   7248         Yes        ...        NaN NaN  NaN    NaN   \n",
       "2805      S00W51   7440         Yes        ...        NaN NaN  NaN    NaN   \n",
       "\n",
       "     Width sep  1MHz_fluence 1MHz_close_freq typeIII_int  FlarePersistence  \n",
       "2267   NaN   1           NaN             NaN         NaN               NaN  \n",
       "2319   NaN   1           NaN             NaN         NaN               NaN  \n",
       "2640   NaN   1           NaN             NaN         NaN               NaN  \n",
       "2677   NaN   1           NaN             NaN         NaN               NaN  \n",
       "2805   NaN   1           NaN             NaN         NaN               NaN  \n",
       "\n",
       "[5 rows x 39 columns]"
      ]
     },
     "execution_count": 153,
     "metadata": {},
     "output_type": "execute_result"
    }
   ],
   "source": [
    "tmp.query('sep == 1')"
   ]
  },
  {
   "cell_type": "code",
   "execution_count": 198,
   "metadata": {},
   "outputs": [
    {
     "data": {
      "text/plain": [
       "3858"
      ]
     },
     "execution_count": 198,
     "metadata": {},
     "output_type": "execute_result"
    }
   ],
   "source": [
    "len(flare_df.query('FlarePersistence != \"NaN\" and tchianti != \"NaN\" and optlocation != \"NaN\" '))"
   ]
  },
  {
   "cell_type": "code",
   "execution_count": 194,
   "metadata": {},
   "outputs": [
    {
     "data": {
      "text/plain": [
       "3812"
      ]
     },
     "execution_count": 194,
     "metadata": {},
     "output_type": "execute_result"
    }
   ],
   "source": [
    "len(flare_df.query('sep == 0'))"
   ]
  },
  {
   "cell_type": "code",
   "execution_count": null,
   "metadata": {
    "collapsed": true
   },
   "outputs": [],
   "source": []
  },
  {
   "cell_type": "code",
   "execution_count": 82,
   "metadata": {},
   "outputs": [
    {
     "data": {
      "image/png": "[encoded data removed]",
      "text/plain": [
       "<matplotlib.figure.Figure at 0x1c1a8480f0>"
      ]
     },
     "metadata": {},
     "output_type": "display_data"
    },
    {
     "data": {
      "image/png": "[encoded data removed]",
      "text/plain": [
       "<matplotlib.figure.Figure at 0x1c1a6fb518>"
      ]
     },
     "metadata": {},
     "output_type": "display_data"
    },
    {
     "data": {
      "image/png": "[encoded data removed]",
      "text/plain": [
       "<matplotlib.figure.Figure at 0x1c1ab8c048>"
      ]
     },
     "metadata": {},
     "output_type": "display_data"
    },
    {
     "data": {
      "image/png": "[encoded data removed]",
      "text/plain": [
       "<matplotlib.figure.Figure at 0x1c1986b0b8>"
      ]
     },
     "metadata": {},
     "output_type": "display_data"
    },
    {
     "data": {
      "image/png": "[encoded data removed]",
      "text/plain": [
       "<matplotlib.figure.Figure at 0x10bb98630>"
      ]
     },
     "metadata": {},
     "output_type": "display_data"
    },
    {
     "data": {
      "image/png": "[encoded data removed]",
      "text/plain": [
       "<matplotlib.figure.Figure at 0x1c1ae4a668>"
      ]
     },
     "metadata": {},
     "output_type": "display_data"
    },
    {
     "data": {
      "image/png": "[encoded data removed]",
      "text/plain": [
       "<matplotlib.figure.Figure at 0x1c1b0ea4e0>"
      ]
     },
     "metadata": {},
     "output_type": "display_data"
    },
    {
     "data": {
      "image/png": "[encoded data removed]",
      "text/plain": [
       "<matplotlib.figure.Figure at 0x1c193e74e0>"
      ]
     },
     "metadata": {},
     "output_type": "display_data"
    }
   ],
   "source": [
    "import matplotlib.pyplot as plt\n",
    "import numpy as np\n",
    "\n",
    "\n",
    "#plt.subplot(3,3,1)\n",
    "boxplt = flare_df.boxplot(column = 'FlrPeakFlux',by = 'sep',layout = (1,1))\n",
    "[ax_tmp.set_xlabel('SEP') for ax_tmp in np.asarray(boxplt).reshape(-1)]\n",
    "fig = np.asarray(boxplt).reshape(-1)[0].get_figure()\n",
    "fig.suptitle('')\n",
    "\n",
    "boxplt = flare_df.boxplot(column = 'FlrIntFlux2',by = 'sep',layout = (1,1))\n",
    "[ax_tmp.set_xlabel('SEP') for ax_tmp in np.asarray(boxplt).reshape(-1)]\n",
    "fig = np.asarray(boxplt).reshape(-1)[0].get_figure()\n",
    "fig.suptitle('')\n",
    "plt.show()\n",
    "\n",
    "boxplt = flare_df.boxplot(column = 'Width',by = 'sep',layout = (1,1))\n",
    "[ax_tmp.set_xlabel('SEP') for ax_tmp in np.asarray(boxplt).reshape(-1)]\n",
    "fig = np.asarray(boxplt).reshape(-1)[0].get_figure()\n",
    "fig.suptitle('')\n",
    "#plt.show()\n",
    "\n",
    "boxplt = flare_df.boxplot(column = 'emchianti',by = 'sep',layout = (1,1))\n",
    "[ax_tmp.set_xlabel('SEP') for ax_tmp in np.asarray(boxplt).reshape(-1)]\n",
    "fig = np.asarray(boxplt).reshape(-1)[0].get_figure()\n",
    "fig.suptitle('')\n",
    "plt.show()\n",
    "\n",
    "boxplt = flare_df.boxplot(column = 'tchianti',by = 'sep',layout = (1,1))\n",
    "[ax_tmp.set_xlabel('SEP') for ax_tmp in np.asarray(boxplt).reshape(-1)]\n",
    "fig = np.asarray(boxplt).reshape(-1)[0].get_figure()\n",
    "fig.suptitle('')\n",
    "plt.show()\n",
    "\n",
    "boxplt = flare_df.boxplot(column = 'cmespeed',by = 'sep',layout = (1,1))\n",
    "[ax_tmp.set_xlabel('SEP') for ax_tmp in np.asarray(boxplt).reshape(-1)]\n",
    "fig = np.asarray(boxplt).reshape(-1)[0].get_figure()\n",
    "fig.suptitle('')\n",
    "plt.show()\n",
    "\n",
    "# boxplt = flare_df.boxplot(column = 'FlarePersistence',by = 'sep',layout = (1,1))\n",
    "# [ax_tmp.set_xlabel('SEP') for ax_tmp in np.asarray(boxplt).reshape(-1)]\n",
    "# fig = np.asarray(boxplt).reshape(-1)[0].get_figure()\n",
    "# fig.suptitle('')\n",
    "# plt.show()\n",
    "\n",
    "boxplt = flare_df.boxplot(column = 'typeIII_int',by = 'sep',layout = (1,1))\n",
    "[ax_tmp.set_xlabel('SEP') for ax_tmp in np.asarray(boxplt).reshape(-1)]\n",
    "fig = np.asarray(boxplt).reshape(-1)[0].get_figure()\n",
    "fig.suptitle('')\n",
    "plt.show()\n"
   ]
  },
  {
   "cell_type": "code",
   "execution_count": null,
   "metadata": {
    "collapsed": true
   },
   "outputs": [],
   "source": []
  }
 ],
 "metadata": {
  "kernelspec": {
   "display_name": "Python 3",
   "language": "python",
   "name": "python3"
  },
  "language_info": {
   "codemirror_mode": {
    "name": "ipython",
    "version": 3
   },
   "file_extension": ".py",
   "mimetype": "text/x-python",
   "name": "python",
   "nbconvert_exporter": "python",
   "pygments_lexer": "ipython3",
   "version": "3.6.7"
  }
 },
 "nbformat": 4,
 "nbformat_minor": 2
}
